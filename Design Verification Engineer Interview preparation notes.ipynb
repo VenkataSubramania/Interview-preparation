{
 "cells": [
  {
   "cell_type": "markdown",
   "metadata": {},
   "source": [
    "# Analog Devices Interview Preparation\n",
    "\n",
    "\n"
   ]
  },
  {
   "cell_type": "markdown",
   "metadata": {},
   "source": [
    "# Testing of logic circuits\n",
    "\n",
    "## Stuck-at model:\n",
    "\n",
    "- Some wires permanently atuck-at logic value 0 or 1.\n",
    "- Single faults easier to check than multiple faults.\n",
    "\n",
    "### CMOS circuits:\n",
    "\n",
    "Transistors failing \n",
    "- in shorted state: Intermediate value between 0 and 1.\n",
    "- in open state: combinational behaves like sequential.\n",
    "\n",
    "## Complexity of test set:\n",
    "\n",
    "- Sequential circuits must be designed with testing on mind else difficult to test.\n",
    "- $$2^n$$ tests for n-input circuit. Large circuits - not feasible\n",
    "- Check techniques to derive minimal test set.\n",
    "\n",
    "## Path sensitizing: (D-algorithm is based on this)\n",
    "\n",
    "- to deal with several wires that form a path as an entity that can be tested for several faults using a single test. It is possible to activate a path so that the changes in the signal that propagates along the path have a direct impact on the output signal.\n",
    "- the fault on a given wire can be detected by propagating the effect of the fault to the output, sensitizing an appropriate path.\n",
    "\n",
    "## Circuits with tree structure: POS or SOP\n",
    "\n",
    "- Easy to test\n",
    "\n",
    "## Random tests:\n",
    "\n",
    "- For a n-variable input, $$(2^n)^n$$ functions possible.\n",
    "\n",
    "\n",
    "\n"
   ]
  }
 ],
 "metadata": {
  "kernelspec": {
   "display_name": "Python 3",
   "language": "python",
   "name": "python3"
  },
  "language_info": {
   "codemirror_mode": {
    "name": "ipython",
    "version": 3
   },
   "file_extension": ".py",
   "mimetype": "text/x-python",
   "name": "python",
   "nbconvert_exporter": "python",
   "pygments_lexer": "ipython3",
   "version": "3.7.1"
  }
 },
 "nbformat": 4,
 "nbformat_minor": 2
}
